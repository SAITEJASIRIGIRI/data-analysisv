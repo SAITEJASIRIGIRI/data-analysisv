{
 "cells": [
  {
   "cell_type": "markdown",
   "id": "fb1c1ee4",
   "metadata": {},
   "source": [
    "# Installing pyspark Module"
   ]
  },
  {
   "cell_type": "code",
   "execution_count": 1,
   "id": "d6340eda",
   "metadata": {},
   "outputs": [
    {
     "name": "stdout",
     "output_type": "stream",
     "text": [
      "Defaulting to user installation because normal site-packages is not writeable\n",
      "Requirement already satisfied: pyspark in c:\\users\\user\\appdata\\roaming\\python\\python39\\site-packages (3.4.1)\n",
      "Requirement already satisfied: py4j==0.10.9.7 in c:\\users\\user\\appdata\\roaming\\python\\python39\\site-packages (from pyspark) (0.10.9.7)\n"
     ]
    }
   ],
   "source": [
    "!pip install pyspark"
   ]
  },
  {
   "cell_type": "markdown",
   "id": "2e0c15de",
   "metadata": {},
   "source": [
    "# Beginning a SparkSession & Building a spark instance"
   ]
  },
  {
   "cell_type": "code",
   "execution_count": 2,
   "id": "5da2c790",
   "metadata": {},
   "outputs": [],
   "source": [
    "from pyspark.sql import SparkSession\n",
    "spark = SparkSession.builder.appName('classification').getOrCreate()"
   ]
  },
  {
   "cell_type": "code",
   "execution_count": 3,
   "id": "02264040",
   "metadata": {},
   "outputs": [],
   "source": [
    "from pyspark.sql.functions import count, mean, when, lit, create_map, regexp_extract\n",
    "from itertools import chain"
   ]
  },
  {
   "cell_type": "markdown",
   "id": "81d62bf8",
   "metadata": {},
   "source": [
    "# Loading and Reading the Dataset"
   ]
  },
  {
   "cell_type": "code",
   "execution_count": 4,
   "id": "5d86eaef",
   "metadata": {},
   "outputs": [],
   "source": [
    "data1 = spark.read.csv('train.csv',\\\n",
    "                     header=True, inferSchema=True)\n",
    "data2 = spark.read.csv('test.csv', \\\n",
    "                     header=True, inferSchema=True)"
   ]
  },
  {
   "cell_type": "markdown",
   "id": "8e2205b4",
   "metadata": {},
   "source": [
    "# Viewing the Dataframe Schema "
   ]
  },
  {
   "cell_type": "code",
   "execution_count": 5,
   "id": "0f6b11b4",
   "metadata": {},
   "outputs": [
    {
     "name": "stdout",
     "output_type": "stream",
     "text": [
      "root\n",
      " |-- PassengerId: integer (nullable = true)\n",
      " |-- Survived: integer (nullable = true)\n",
      " |-- Pclass: integer (nullable = true)\n",
      " |-- Name: string (nullable = true)\n",
      " |-- Sex: string (nullable = true)\n",
      " |-- Age: double (nullable = true)\n",
      " |-- SibSp: integer (nullable = true)\n",
      " |-- Parch: integer (nullable = true)\n",
      " |-- Ticket: string (nullable = true)\n",
      " |-- Fare: double (nullable = true)\n",
      " |-- Cabin: string (nullable = true)\n",
      " |-- Embarked: string (nullable = true)\n",
      "\n"
     ]
    }
   ],
   "source": [
    "data1.printSchema()"
   ]
  },
  {
   "cell_type": "markdown",
   "id": "006fb0ff",
   "metadata": {},
   "source": [
    "# Showing First 10 Rows of the Dataframe "
   ]
  },
  {
   "cell_type": "code",
   "execution_count": 6,
   "id": "b93e198b",
   "metadata": {},
   "outputs": [
    {
     "name": "stdout",
     "output_type": "stream",
     "text": [
      "+-----------+--------+------+--------------------+------+----+-----+-----+----------------+-------+-----+--------+\n",
      "|PassengerId|Survived|Pclass|                Name|   Sex| Age|SibSp|Parch|          Ticket|   Fare|Cabin|Embarked|\n",
      "+-----------+--------+------+--------------------+------+----+-----+-----+----------------+-------+-----+--------+\n",
      "|          1|       0|     3|Braund, Mr. Owen ...|  male|22.0|    1|    0|       A/5 21171|   7.25| null|       S|\n",
      "|          2|       1|     1|Cumings, Mrs. Joh...|female|38.0|    1|    0|        PC 17599|71.2833|  C85|       C|\n",
      "|          3|       1|     3|Heikkinen, Miss. ...|female|26.0|    0|    0|STON/O2. 3101282|  7.925| null|       S|\n",
      "|          4|       1|     1|Futrelle, Mrs. Ja...|female|35.0|    1|    0|          113803|   53.1| C123|       S|\n",
      "|          5|       0|     3|Allen, Mr. Willia...|  male|35.0|    0|    0|          373450|   8.05| null|       S|\n",
      "|          6|       0|     3|    Moran, Mr. James|  male|null|    0|    0|          330877| 8.4583| null|       Q|\n",
      "|          7|       0|     1|McCarthy, Mr. Tim...|  male|54.0|    0|    0|           17463|51.8625|  E46|       S|\n",
      "|          8|       0|     3|Palsson, Master. ...|  male| 2.0|    3|    1|          349909| 21.075| null|       S|\n",
      "|          9|       1|     3|Johnson, Mrs. Osc...|female|27.0|    0|    2|          347742|11.1333| null|       S|\n",
      "|         10|       1|     2|Nasser, Mrs. Nich...|female|14.0|    1|    0|          237736|30.0708| null|       C|\n",
      "+-----------+--------+------+--------------------+------+----+-----+-----+----------------+-------+-----+--------+\n",
      "only showing top 10 rows\n",
      "\n"
     ]
    }
   ],
   "source": [
    "data1.show(10)"
   ]
  },
  {
   "cell_type": "markdown",
   "id": "6671dc4a",
   "metadata": {},
   "source": [
    "# Transforming Spark Dataframe by Limiting and Converting It to a Pandas Dataframe"
   ]
  },
  {
   "cell_type": "code",
   "execution_count": 7,
   "id": "134370a7",
   "metadata": {},
   "outputs": [
    {
     "data": {
      "text/html": [
       "<div>\n",
       "<style scoped>\n",
       "    .dataframe tbody tr th:only-of-type {\n",
       "        vertical-align: middle;\n",
       "    }\n",
       "\n",
       "    .dataframe tbody tr th {\n",
       "        vertical-align: top;\n",
       "    }\n",
       "\n",
       "    .dataframe thead th {\n",
       "        text-align: right;\n",
       "    }\n",
       "</style>\n",
       "<table border=\"1\" class=\"dataframe\">\n",
       "  <thead>\n",
       "    <tr style=\"text-align: right;\">\n",
       "      <th></th>\n",
       "      <th>PassengerId</th>\n",
       "      <th>Survived</th>\n",
       "      <th>Pclass</th>\n",
       "      <th>Name</th>\n",
       "      <th>Sex</th>\n",
       "      <th>Age</th>\n",
       "      <th>SibSp</th>\n",
       "      <th>Parch</th>\n",
       "      <th>Ticket</th>\n",
       "      <th>Fare</th>\n",
       "      <th>Cabin</th>\n",
       "      <th>Embarked</th>\n",
       "    </tr>\n",
       "  </thead>\n",
       "  <tbody>\n",
       "    <tr>\n",
       "      <th>0</th>\n",
       "      <td>1</td>\n",
       "      <td>0</td>\n",
       "      <td>3</td>\n",
       "      <td>Braund, Mr. Owen Harris</td>\n",
       "      <td>male</td>\n",
       "      <td>22.0</td>\n",
       "      <td>1</td>\n",
       "      <td>0</td>\n",
       "      <td>A/5 21171</td>\n",
       "      <td>7.2500</td>\n",
       "      <td>None</td>\n",
       "      <td>S</td>\n",
       "    </tr>\n",
       "    <tr>\n",
       "      <th>1</th>\n",
       "      <td>2</td>\n",
       "      <td>1</td>\n",
       "      <td>1</td>\n",
       "      <td>Cumings, Mrs. John Bradley (Florence Briggs Th...</td>\n",
       "      <td>female</td>\n",
       "      <td>38.0</td>\n",
       "      <td>1</td>\n",
       "      <td>0</td>\n",
       "      <td>PC 17599</td>\n",
       "      <td>71.2833</td>\n",
       "      <td>C85</td>\n",
       "      <td>C</td>\n",
       "    </tr>\n",
       "    <tr>\n",
       "      <th>2</th>\n",
       "      <td>3</td>\n",
       "      <td>1</td>\n",
       "      <td>3</td>\n",
       "      <td>Heikkinen, Miss. Laina</td>\n",
       "      <td>female</td>\n",
       "      <td>26.0</td>\n",
       "      <td>0</td>\n",
       "      <td>0</td>\n",
       "      <td>STON/O2. 3101282</td>\n",
       "      <td>7.9250</td>\n",
       "      <td>None</td>\n",
       "      <td>S</td>\n",
       "    </tr>\n",
       "    <tr>\n",
       "      <th>3</th>\n",
       "      <td>4</td>\n",
       "      <td>1</td>\n",
       "      <td>1</td>\n",
       "      <td>Futrelle, Mrs. Jacques Heath (Lily May Peel)</td>\n",
       "      <td>female</td>\n",
       "      <td>35.0</td>\n",
       "      <td>1</td>\n",
       "      <td>0</td>\n",
       "      <td>113803</td>\n",
       "      <td>53.1000</td>\n",
       "      <td>C123</td>\n",
       "      <td>S</td>\n",
       "    </tr>\n",
       "  </tbody>\n",
       "</table>\n",
       "</div>"
      ],
      "text/plain": [
       "   PassengerId  Survived  Pclass  \\\n",
       "0            1         0       3   \n",
       "1            2         1       1   \n",
       "2            3         1       3   \n",
       "3            4         1       1   \n",
       "\n",
       "                                                Name     Sex   Age  SibSp  \\\n",
       "0                            Braund, Mr. Owen Harris    male  22.0      1   \n",
       "1  Cumings, Mrs. John Bradley (Florence Briggs Th...  female  38.0      1   \n",
       "2                             Heikkinen, Miss. Laina  female  26.0      0   \n",
       "3       Futrelle, Mrs. Jacques Heath (Lily May Peel)  female  35.0      1   \n",
       "\n",
       "   Parch            Ticket     Fare Cabin Embarked  \n",
       "0      0         A/5 21171   7.2500  None        S  \n",
       "1      0          PC 17599  71.2833   C85        C  \n",
       "2      0  STON/O2. 3101282   7.9250  None        S  \n",
       "3      0            113803  53.1000  C123        S  "
      ]
     },
     "execution_count": 7,
     "metadata": {},
     "output_type": "execute_result"
    }
   ],
   "source": [
    "data1.limit(4).toPandas()"
   ]
  },
  {
   "cell_type": "markdown",
   "id": "96e8b622",
   "metadata": {},
   "source": [
    "#  Selecting 4 Columns for Inspect within Spark"
   ]
  },
  {
   "cell_type": "code",
   "execution_count": 8,
   "id": "29267116",
   "metadata": {},
   "outputs": [
    {
     "name": "stdout",
     "output_type": "stream",
     "text": [
      "+------+-------+--------+----+\n",
      "|Pclass|   Fare|Survived| Age|\n",
      "+------+-------+--------+----+\n",
      "|     3|   7.25|       0|22.0|\n",
      "|     1|71.2833|       1|38.0|\n",
      "|     3|  7.925|       1|26.0|\n",
      "|     1|   53.1|       1|35.0|\n",
      "+------+-------+--------+----+\n",
      "only showing top 4 rows\n",
      "\n"
     ]
    }
   ],
   "source": [
    "data1.select('Pclass', 'Fare', 'Survived', 'Age').show(4)"
   ]
  },
  {
   "cell_type": "markdown",
   "id": "444defb4",
   "metadata": {},
   "source": [
    "# Applying the Summary() Method"
   ]
  },
  {
   "cell_type": "code",
   "execution_count": 9,
   "id": "c2a70016",
   "metadata": {},
   "outputs": [
    {
     "name": "stdout",
     "output_type": "stream",
     "text": [
      "+-------+------------------+-----------------+-------------------+------------------+\n",
      "|summary|            Pclass|             Fare|           Survived|               Age|\n",
      "+-------+------------------+-----------------+-------------------+------------------+\n",
      "|  count|               891|              891|                891|               714|\n",
      "|   mean| 2.308641975308642| 32.2042079685746| 0.3838383838383838| 29.69911764705882|\n",
      "| stddev|0.8360712409770491|49.69342859718089|0.48659245426485753|14.526497332334035|\n",
      "|    min|                 1|              0.0|                  0|              0.42|\n",
      "|    25%|                 2|           7.8958|                  0|              20.0|\n",
      "|    50%|                 3|          14.4542|                  0|              28.0|\n",
      "|    75%|                 3|             31.0|                  1|              38.0|\n",
      "|    max|                 3|         512.3292|                  1|              80.0|\n",
      "+-------+------------------+-----------------+-------------------+------------------+\n",
      "\n"
     ]
    }
   ],
   "source": [
    "data1.select('Pclass', 'Fare', 'Survived', 'Age').summary().show()"
   ]
  },
  {
   "cell_type": "markdown",
   "id": "5efb800b",
   "metadata": {},
   "source": [
    "# Showing Total Number of Rows and Columns present in the Dataframe"
   ]
  },
  {
   "cell_type": "code",
   "execution_count": 10,
   "id": "a2354b51",
   "metadata": {},
   "outputs": [
    {
     "name": "stdout",
     "output_type": "stream",
     "text": [
      "No. of columns present in the dataframe: \t 12\n",
      "No. of rows present in the dataframe: \t 891\n"
     ]
    }
   ],
   "source": [
    "print('No. of columns present in the dataframe: \\t', len(data1.columns))\n",
    "print('No. of rows present in the dataframe: \\t', data1.count())"
   ]
  },
  {
   "cell_type": "markdown",
   "id": "4105a6a7",
   "metadata": {},
   "source": [
    "# Count of People Who Survived"
   ]
  },
  {
   "cell_type": "code",
   "execution_count": 11,
   "id": "6d3219f5",
   "metadata": {},
   "outputs": [
    {
     "name": "stdout",
     "output_type": "stream",
     "text": [
      "+--------+-----+\n",
      "|Survived|count|\n",
      "+--------+-----+\n",
      "|       1|  342|\n",
      "|       0|  549|\n",
      "+--------+-----+\n",
      "\n"
     ]
    }
   ],
   "source": [
    "data1.groupBy('Survived').count().show()"
   ]
  },
  {
   "cell_type": "markdown",
   "id": "d38b0bb3",
   "metadata": {},
   "source": [
    "# Finding Average Fare and Age"
   ]
  },
  {
   "cell_type": "code",
   "execution_count": 12,
   "id": "b3c52b76",
   "metadata": {},
   "outputs": [
    {
     "name": "stdout",
     "output_type": "stream",
     "text": [
      "+--------+------------------+------------------+\n",
      "|Survived|          avg(Age)|         avg(Fare)|\n",
      "+--------+------------------+------------------+\n",
      "|       1|28.343689655172415| 48.39540760233917|\n",
      "|       0| 30.62617924528302|22.117886885245877|\n",
      "+--------+------------------+------------------+\n",
      "\n"
     ]
    }
   ],
   "source": [
    "data1.groupBy('Survived').mean('Age', 'Fare').show()"
   ]
  },
  {
   "cell_type": "markdown",
   "id": "aa06ffa6",
   "metadata": {},
   "source": [
    "# Showing Number of Survival According to Sex"
   ]
  },
  {
   "cell_type": "code",
   "execution_count": 13,
   "id": "76f31a78",
   "metadata": {},
   "outputs": [
    {
     "name": "stdout",
     "output_type": "stream",
     "text": [
      "+--------+------+----+\n",
      "|Survived|female|male|\n",
      "+--------+------+----+\n",
      "|       1|   233| 109|\n",
      "|       0|    81| 468|\n",
      "+--------+------+----+\n",
      "\n"
     ]
    }
   ],
   "source": [
    "data1.groupBy('Survived').pivot('Sex').count().show()"
   ]
  },
  {
   "cell_type": "markdown",
   "id": "2561415a",
   "metadata": {},
   "source": [
    "# Displaying Number of Survival According to Number of Siblings"
   ]
  },
  {
   "cell_type": "code",
   "execution_count": 14,
   "id": "a9b58928",
   "metadata": {},
   "outputs": [
    {
     "name": "stdout",
     "output_type": "stream",
     "text": [
      "+--------+---+---+---+---+---+----+----+\n",
      "|Survived|  0|  1|  2|  3|  4|   5|   8|\n",
      "+--------+---+---+---+---+---+----+----+\n",
      "|       1|210|112| 13|  4|  3|null|null|\n",
      "|       0|398| 97| 15| 12| 15|   5|   7|\n",
      "+--------+---+---+---+---+---+----+----+\n",
      "\n"
     ]
    }
   ],
   "source": [
    "data1.groupBy('Survived').pivot('SibSp').count().show()"
   ]
  },
  {
   "cell_type": "markdown",
   "id": "019cb511",
   "metadata": {},
   "source": [
    "# Viewing Survival Number According to Class Type"
   ]
  },
  {
   "cell_type": "code",
   "execution_count": 15,
   "id": "1b387d05",
   "metadata": {},
   "outputs": [
    {
     "name": "stdout",
     "output_type": "stream",
     "text": [
      "+--------+---+---+---+\n",
      "|Survived|  1|  2|  3|\n",
      "+--------+---+---+---+\n",
      "|       1|136| 87|119|\n",
      "|       0| 80| 97|372|\n",
      "+--------+---+---+---+\n",
      "\n"
     ]
    }
   ],
   "source": [
    "data1.groupBy('Survived').pivot('Pclass').count().show()"
   ]
  },
  {
   "cell_type": "markdown",
   "id": "17e44348",
   "metadata": {},
   "source": [
    "# Showing Survival Number According to Embarked"
   ]
  },
  {
   "cell_type": "code",
   "execution_count": 16,
   "id": "d2af5457",
   "metadata": {},
   "outputs": [
    {
     "name": "stdout",
     "output_type": "stream",
     "text": [
      "+--------+----+---+---+---+\n",
      "|Survived|null|  C|  Q|  S|\n",
      "+--------+----+---+---+---+\n",
      "|       1|   2| 93| 30|217|\n",
      "|       0|null| 75| 47|427|\n",
      "+--------+----+---+---+---+\n",
      "\n"
     ]
    }
   ],
   "source": [
    "data1.groupBy('Survived').pivot('Embarked').count().show()"
   ]
  },
  {
   "cell_type": "markdown",
   "id": "1e86d17c",
   "metadata": {},
   "source": [
    "# Determining the Number of Survival Based on Parch"
   ]
  },
  {
   "cell_type": "code",
   "execution_count": 17,
   "id": "9043063b",
   "metadata": {},
   "outputs": [
    {
     "name": "stdout",
     "output_type": "stream",
     "text": [
      "+--------+---+---+---+---+----+---+----+\n",
      "|Survived|  0|  1|  2|  3|   4|  5|   6|\n",
      "+--------+---+---+---+---+----+---+----+\n",
      "|       1|233| 65| 40|  3|null|  1|null|\n",
      "|       0|445| 53| 40|  2|   4|  4|   1|\n",
      "+--------+---+---+---+---+----+---+----+\n",
      "\n"
     ]
    }
   ],
   "source": [
    "data1.groupBy('Survived').pivot('Parch').count().show()"
   ]
  },
  {
   "cell_type": "markdown",
   "id": "f642eb17",
   "metadata": {},
   "source": [
    "# Checking for Null Values"
   ]
  },
  {
   "cell_type": "code",
   "execution_count": 18,
   "id": "bea328a3",
   "metadata": {},
   "outputs": [
    {
     "name": "stdout",
     "output_type": "stream",
     "text": [
      "PassengerId          0\n",
      "Survived             0\n",
      "Pclass               0\n",
      "Name                 0\n",
      "Sex                  0\n",
      "Age                  177\n",
      "SibSp                0\n",
      "Parch                0\n",
      "Ticket               0\n",
      "Fare                 0\n",
      "Cabin                687\n",
      "Embarked             2\n"
     ]
    }
   ],
   "source": [
    "for col in data1.columns:\n",
    "    print(col.ljust(20), data1.filter(data1[col].isNull()).count())"
   ]
  },
  {
   "cell_type": "markdown",
   "id": "c1c161fb",
   "metadata": {},
   "source": [
    "# Extracting Summary for Embarked and Fare "
   ]
  },
  {
   "cell_type": "code",
   "execution_count": 19,
   "id": "0db1173f",
   "metadata": {},
   "outputs": [
    {
     "name": "stdout",
     "output_type": "stream",
     "text": [
      "+-------+--------+----------------+\n",
      "|summary|Embarked|            Fare|\n",
      "+-------+--------+----------------+\n",
      "|    max|       S|        512.3292|\n",
      "|    50%|    null|         14.4542|\n",
      "|   mean|    null|32.2042079685746|\n",
      "+-------+--------+----------------+\n",
      "\n"
     ]
    }
   ],
   "source": [
    "data1.select('Embarked', 'Fare').summary('max', '50%', 'mean').show()"
   ]
  },
  {
   "cell_type": "code",
   "execution_count": 20,
   "id": "b712ec21",
   "metadata": {},
   "outputs": [],
   "source": [
    "data1 = data1.fillna({'Embarked': 'S', 'Fare':14.45})"
   ]
  },
  {
   "cell_type": "markdown",
   "id": "d5cb3aeb",
   "metadata": {},
   "source": [
    "# Extracting the Title Using the Regular Expression and Observing the Count and Average Age"
   ]
  },
  {
   "cell_type": "code",
   "execution_count": 21,
   "id": "1aed5dfe",
   "metadata": {},
   "outputs": [
    {
     "name": "stdout",
     "output_type": "stream",
     "text": [
      "+--------+----------+------------------+\n",
      "|   Title|count(Age)|          avg(Age)|\n",
      "+--------+----------+------------------+\n",
      "|     Don|         1|              40.0|\n",
      "|Countess|         1|              33.0|\n",
      "|    Lady|         1|              48.0|\n",
      "|     Mme|         1|              24.0|\n",
      "|    Capt|         1|              70.0|\n",
      "|     Sir|         1|              49.0|\n",
      "|Jonkheer|         1|              38.0|\n",
      "|      Ms|         1|              28.0|\n",
      "|     Col|         2|              58.0|\n",
      "|    Mlle|         2|              24.0|\n",
      "|   Major|         2|              48.5|\n",
      "|     Rev|         6|43.166666666666664|\n",
      "|      Dr|         6|              42.0|\n",
      "|  Master|        36| 4.574166666666667|\n",
      "|     Mrs|       108|35.898148148148145|\n",
      "|    Miss|       146|21.773972602739725|\n",
      "|      Mr|       398|32.368090452261306|\n",
      "+--------+----------+------------------+\n",
      "\n"
     ]
    }
   ],
   "source": [
    "data1 = data1.withColumn('Title', regexp_extract(data1['Name'],\\\n",
    "                '([A-Za-z]+)\\.', 1))\n",
    "\n",
    "data1.groupBy('Title').agg(count('Age'), mean('Age')).sort('count(Age)').show()"
   ]
  },
  {
   "cell_type": "markdown",
   "id": "59cb7a37",
   "metadata": {},
   "source": [
    "# Keeping Four Titles and Mapping Other With One of the First Three"
   ]
  },
  {
   "cell_type": "code",
   "execution_count": 22,
   "id": "e82bbed3",
   "metadata": {},
   "outputs": [
    {
     "name": "stdout",
     "output_type": "stream",
     "text": [
      "+------+------------------+\n",
      "| Title|          avg(Age)|\n",
      "+------+------------------+\n",
      "|  Miss|             21.86|\n",
      "|Master| 4.574166666666667|\n",
      "|    Mr| 33.02272727272727|\n",
      "|   Mrs|35.981818181818184|\n",
      "+------+------------------+\n",
      "\n"
     ]
    }
   ],
   "source": [
    "title_dic = {'Mr':'Mr', 'Miss':'Miss', 'Mrs':'Mrs', 'Master':'Master', \\\n",
    "             'Mlle': 'Miss', 'Major': 'Mr', 'Col': 'Mr', 'Sir': 'Mr',\\\n",
    "             'Don': 'Mr', 'Mme': 'Miss', 'Jonkheer': 'Mr', 'Lady': 'Mrs',\\\n",
    "             'Capt': 'Mr', 'Countess': 'Mrs', 'Ms': 'Miss', 'Dona': 'Mrs', \\\n",
    "             'Dr':'Mr', 'Rev':'Mr'}\n",
    "\n",
    "mapping = create_map([lit(x) for x in chain(*title_dic.items())])\n",
    "\n",
    "data1 = data1.withColumn('Title', mapping[data1['Title']])\n",
    "data1.groupBy('Title').mean('Age').show()"
   ]
  },
  {
   "cell_type": "markdown",
   "id": "d14adf42",
   "metadata": {},
   "source": [
    "#  Creating a Function which Imputes column Age with the Average age"
   ]
  },
  {
   "cell_type": "code",
   "execution_count": 23,
   "id": "7b8f0961",
   "metadata": {},
   "outputs": [],
   "source": [
    "def ageimpute(data, title, age):\n",
    "    return data.withColumn('Age', \\\n",
    "                         when((data['Age'].isNull()) & (data['Title']==title), \\\n",
    "                              age).otherwise(data['Age']))"
   ]
  },
  {
   "cell_type": "markdown",
   "id": "e7c48727",
   "metadata": {},
   "source": [
    "# Imputing the Age"
   ]
  },
  {
   "cell_type": "code",
   "execution_count": 24,
   "id": "0b8921d1",
   "metadata": {},
   "outputs": [],
   "source": [
    "data1 = ageimpute(data1, 'Mr', 33.02)\n",
    "data1 = ageimpute(data1, 'Mrs', 35.98)\n",
    "data1 = ageimpute(data1, 'Miss', 21.86)\n",
    "data1 = ageimpute(data1, 'Master', 4.75)"
   ]
  },
  {
   "cell_type": "markdown",
   "id": "f0ae0b2e",
   "metadata": {},
   "source": [
    "# Creating FamilySize column and Dropping columns SibSp and Parch"
   ]
  },
  {
   "cell_type": "code",
   "execution_count": 25,
   "id": "58d3a6e4",
   "metadata": {},
   "outputs": [],
   "source": [
    "data1 = data1.withColumn('FamilySize', data1['Parch'] + data1['SibSp']).\\\n",
    "            drop('SibSp', 'Parch')"
   ]
  },
  {
   "cell_type": "markdown",
   "id": "4a25cd64",
   "metadata": {},
   "source": [
    "# Dropping Unwanted Columns"
   ]
  },
  {
   "cell_type": "code",
   "execution_count": 26,
   "id": "24d28dca",
   "metadata": {},
   "outputs": [],
   "source": [
    "data1 = data1.drop('Name', 'PassengerID', 'Ticket', 'Title', 'Cabin')"
   ]
  },
  {
   "cell_type": "markdown",
   "id": "5d4ce834",
   "metadata": {},
   "source": [
    "# Viewing Trimmed Dataframe"
   ]
  },
  {
   "cell_type": "code",
   "execution_count": 27,
   "id": "e873abc8",
   "metadata": {},
   "outputs": [
    {
     "name": "stdout",
     "output_type": "stream",
     "text": [
      "+--------+------+------+-----+-------+--------+----------+\n",
      "|Survived|Pclass|   Sex|  Age|   Fare|Embarked|FamilySize|\n",
      "+--------+------+------+-----+-------+--------+----------+\n",
      "|       0|     3|  male| 22.0|   7.25|       S|         1|\n",
      "|       1|     1|female| 38.0|71.2833|       C|         1|\n",
      "|       1|     3|female| 26.0|  7.925|       S|         0|\n",
      "|       1|     1|female| 35.0|   53.1|       S|         1|\n",
      "|       0|     3|  male| 35.0|   8.05|       S|         0|\n",
      "|       0|     3|  male|33.02| 8.4583|       Q|         0|\n",
      "+--------+------+------+-----+-------+--------+----------+\n",
      "only showing top 6 rows\n",
      "\n"
     ]
    }
   ],
   "source": [
    "data1.show(6)"
   ]
  },
  {
   "cell_type": "markdown",
   "id": "2bb78d43",
   "metadata": {},
   "source": [
    "# Checking for Missing Values"
   ]
  },
  {
   "cell_type": "code",
   "execution_count": 28,
   "id": "10ced747",
   "metadata": {},
   "outputs": [
    {
     "name": "stdout",
     "output_type": "stream",
     "text": [
      "Survived             0\n",
      "Pclass               0\n",
      "Sex                  0\n",
      "Age                  0\n",
      "Fare                 0\n",
      "Embarked             0\n",
      "FamilySize           0\n"
     ]
    }
   ],
   "source": [
    "for col in data1.columns:\n",
    "    print(col.ljust(20), data1.filter(data1[col].isNull()).count())"
   ]
  },
  {
   "cell_type": "markdown",
   "id": "69ee583f",
   "metadata": {},
   "source": [
    "# Importing Model building Libraries"
   ]
  },
  {
   "cell_type": "code",
   "execution_count": 29,
   "id": "13776f77",
   "metadata": {},
   "outputs": [],
   "source": [
    "from pyspark.ml.feature import StringIndexer, VectorAssembler\n",
    "from pyspark.ml.classification import LogisticRegression,\\\n",
    "                    RandomForestClassifier, GBTClassifier\n",
    "from pyspark.ml.evaluation import MulticlassClassificationEvaluator\n",
    "from pyspark.ml import Pipeline\n",
    "from pyspark.ml.tuning import CrossValidator, ParamGridBuilder"
   ]
  },
  {
   "cell_type": "markdown",
   "id": "74418904",
   "metadata": {},
   "source": [
    "# Changing the Embarked and Sex Column from String to Numeric index"
   ]
  },
  {
   "cell_type": "code",
   "execution_count": 30,
   "id": "49e7f92a",
   "metadata": {},
   "outputs": [
    {
     "name": "stdout",
     "output_type": "stream",
     "text": [
      "+--------+------+-----+-------+----------+------+------+\n",
      "|Survived|Pclass|  Age|   Fare|FamilySize|EmbNum|SexNum|\n",
      "+--------+------+-----+-------+----------+------+------+\n",
      "|       0|     3| 22.0|   7.25|         1|   0.0|   0.0|\n",
      "|       1|     1| 38.0|71.2833|         1|   1.0|   1.0|\n",
      "|       1|     3| 26.0|  7.925|         0|   0.0|   1.0|\n",
      "|       1|     1| 35.0|   53.1|         1|   0.0|   1.0|\n",
      "|       0|     3| 35.0|   8.05|         0|   0.0|   0.0|\n",
      "|       0|     3|33.02| 8.4583|         0|   2.0|   0.0|\n",
      "+--------+------+-----+-------+----------+------+------+\n",
      "only showing top 6 rows\n",
      "\n"
     ]
    }
   ],
   "source": [
    "stringIndex = StringIndexer(inputCols=['Embarked', 'Sex'], \n",
    "                       outputCols=['EmbNum', 'SexNum'])\n",
    "\n",
    "stringIndex_model = stringIndex.fit(data1)\n",
    "\n",
    "data1_ = stringIndex_model.transform(data1).drop('Sex', 'Embarked')\n",
    "data1_.show(6)"
   ]
  },
  {
   "cell_type": "markdown",
   "id": "6b2c959a",
   "metadata": {},
   "source": [
    "# Use of VectorAssembler "
   ]
  },
  {
   "cell_type": "code",
   "execution_count": 31,
   "id": "dfdbcff4",
   "metadata": {},
   "outputs": [
    {
     "name": "stdout",
     "output_type": "stream",
     "text": [
      "+--------+------------------------------+\n",
      "|Survived|features                      |\n",
      "+--------+------------------------------+\n",
      "|0       |[3.0,22.0,7.25,1.0,0.0,0.0]   |\n",
      "|1       |[1.0,38.0,71.2833,1.0,1.0,1.0]|\n",
      "|1       |[3.0,26.0,7.925,0.0,0.0,1.0]  |\n",
      "|1       |[1.0,35.0,53.1,1.0,0.0,1.0]   |\n",
      "|0       |[3.0,35.0,8.05,0.0,0.0,0.0]   |\n",
      "|0       |[3.0,33.02,8.4583,0.0,2.0,0.0]|\n",
      "+--------+------------------------------+\n",
      "only showing top 6 rows\n",
      "\n"
     ]
    }
   ],
   "source": [
    "vec_asmbl = VectorAssembler(inputCols=data1_.columns[1:], \n",
    "                           outputCol='features')\n",
    "\n",
    "data1_ = vec_asmbl.transform(data1_).select('Survived', 'features')\n",
    "data1_.show(6, truncate=False)"
   ]
  },
  {
   "cell_type": "markdown",
   "id": "231ec13a",
   "metadata": {},
   "source": [
    "# Splitting the Data for Training and Testing"
   ]
  },
  {
   "cell_type": "code",
   "execution_count": 32,
   "id": "22ea9bc8",
   "metadata": {},
   "outputs": [],
   "source": [
    "train_data, valid_data = data1_.randomSplit([0.8, 0.2])"
   ]
  },
  {
   "cell_type": "markdown",
   "id": "2704935e",
   "metadata": {},
   "source": [
    "# Showing the Train Data for Top 6 Rows"
   ]
  },
  {
   "cell_type": "code",
   "execution_count": 33,
   "id": "f1179a42",
   "metadata": {},
   "outputs": [
    {
     "name": "stdout",
     "output_type": "stream",
     "text": [
      "+--------+---------------------+\n",
      "|Survived|features             |\n",
      "+--------+---------------------+\n",
      "|0       |(6,[0,1],[1.0,33.02])|\n",
      "|0       |(6,[0,1],[1.0,33.02])|\n",
      "|0       |(6,[0,1],[1.0,38.0]) |\n",
      "|0       |(6,[0,1],[1.0,39.0]) |\n",
      "|0       |(6,[0,1],[1.0,40.0]) |\n",
      "|0       |(6,[0,1],[2.0,33.02])|\n",
      "+--------+---------------------+\n",
      "only showing top 6 rows\n",
      "\n"
     ]
    }
   ],
   "source": [
    "train_data.show(6, truncate=False)"
   ]
  },
  {
   "cell_type": "markdown",
   "id": "93be4fb5",
   "metadata": {},
   "source": [
    "# Using MulticlassClassificationEvaluator"
   ]
  },
  {
   "cell_type": "code",
   "execution_count": 34,
   "id": "f1adc664",
   "metadata": {},
   "outputs": [],
   "source": [
    "evaluator = MulticlassClassificationEvaluator(labelCol='Survived', \n",
    "                                          metricName='accuracy')"
   ]
  },
  {
   "cell_type": "markdown",
   "id": "ba71d908",
   "metadata": {},
   "source": [
    "# Building Logistic Regression Model "
   ]
  },
  {
   "cell_type": "code",
   "execution_count": 35,
   "id": "0693ffe0",
   "metadata": {},
   "outputs": [
    {
     "data": {
      "text/plain": [
       "0.8092485549132948"
      ]
     },
     "execution_count": 35,
     "metadata": {},
     "output_type": "execute_result"
    }
   ],
   "source": [
    "ridge = LogisticRegression(labelCol='Survived', \n",
    "                        maxIter=120, \n",
    "                        elasticNetParam=0, \n",
    "                        regParam=0.03)\n",
    "\n",
    "model = ridge.fit(train_data)\n",
    "pred = model.transform(valid_data)\n",
    "evaluator.evaluate(pred)"
   ]
  },
  {
   "cell_type": "markdown",
   "id": "15119dc3",
   "metadata": {},
   "source": [
    "# Developing Random Forest Classifier Model"
   ]
  },
  {
   "cell_type": "code",
   "execution_count": 36,
   "id": "a27a459e",
   "metadata": {},
   "outputs": [
    {
     "data": {
      "text/plain": [
       "0.8265895953757225"
      ]
     },
     "execution_count": 36,
     "metadata": {},
     "output_type": "execute_result"
    }
   ],
   "source": [
    "rf = RandomForestClassifier(labelCol='Survived', \n",
    "                           numTrees=200, maxDepth=5)\n",
    "\n",
    "model = rf.fit(train_data)\n",
    "pred = model.transform(valid_data)\n",
    "evaluator.evaluate(pred)"
   ]
  },
  {
   "cell_type": "markdown",
   "id": "dbec643a",
   "metadata": {},
   "source": [
    "# Building GBT Classifier Model "
   ]
  },
  {
   "cell_type": "code",
   "execution_count": 37,
   "id": "c693fca1",
   "metadata": {},
   "outputs": [
    {
     "data": {
      "text/plain": [
       "0.838150289017341"
      ]
     },
     "execution_count": 37,
     "metadata": {},
     "output_type": "execute_result"
    }
   ],
   "source": [
    "gb = GBTClassifier(labelCol='Survived', maxIter=100, maxDepth=3)\n",
    "\n",
    "model = gb.fit(train_data)\n",
    "pred = model.transform(valid_data)\n",
    "evaluator.evaluate(pred)"
   ]
  },
  {
   "cell_type": "markdown",
   "id": "e779d947",
   "metadata": {},
   "source": [
    "# Showing the Test Data"
   ]
  },
  {
   "cell_type": "code",
   "execution_count": 38,
   "id": "39c6559e",
   "metadata": {},
   "outputs": [
    {
     "name": "stdout",
     "output_type": "stream",
     "text": [
      "+-----------+------+--------------------+------+----+-----+-----+-------+-------+-----+--------+\n",
      "|PassengerId|Pclass|                Name|   Sex| Age|SibSp|Parch| Ticket|   Fare|Cabin|Embarked|\n",
      "+-----------+------+--------------------+------+----+-----+-----+-------+-------+-----+--------+\n",
      "|        892|     3|    Kelly, Mr. James|  male|34.5|    0|    0| 330911| 7.8292| null|       Q|\n",
      "|        893|     3|Wilkes, Mrs. Jame...|female|47.0|    1|    0| 363272|    7.0| null|       S|\n",
      "|        894|     2|Myles, Mr. Thomas...|  male|62.0|    0|    0| 240276| 9.6875| null|       Q|\n",
      "|        895|     3|    Wirz, Mr. Albert|  male|27.0|    0|    0| 315154| 8.6625| null|       S|\n",
      "|        896|     3|Hirvonen, Mrs. Al...|female|22.0|    1|    1|3101298|12.2875| null|       S|\n",
      "|        897|     3|Svensson, Mr. Joh...|  male|14.0|    0|    0|   7538|  9.225| null|       S|\n",
      "+-----------+------+--------------------+------+----+-----+-----+-------+-------+-----+--------+\n",
      "only showing top 6 rows\n",
      "\n"
     ]
    }
   ],
   "source": [
    "data2.show(6)"
   ]
  },
  {
   "cell_type": "markdown",
   "id": "bad4c230",
   "metadata": {},
   "source": [
    "# Checking for Missing Values inside Test Data"
   ]
  },
  {
   "cell_type": "code",
   "execution_count": 39,
   "id": "cfdee0e2",
   "metadata": {},
   "outputs": [
    {
     "name": "stdout",
     "output_type": "stream",
     "text": [
      "PassengerId          0\n",
      "Pclass               0\n",
      "Name                 0\n",
      "Sex                  0\n",
      "Age                  86\n",
      "SibSp                0\n",
      "Parch                0\n",
      "Ticket               0\n",
      "Fare                 1\n",
      "Cabin                327\n",
      "Embarked             0\n"
     ]
    }
   ],
   "source": [
    "for col in data2.columns:\n",
    "    print(col.ljust(20), data2.filter(data2[col].isNull()).count())"
   ]
  },
  {
   "cell_type": "markdown",
   "id": "6020d9c3",
   "metadata": {},
   "source": [
    "# Creating a FamilySize Feature and Dropping the Unwanted"
   ]
  },
  {
   "cell_type": "code",
   "execution_count": 40,
   "id": "ee14cb5f",
   "metadata": {},
   "outputs": [],
   "source": [
    "data2 = data2.fillna({'Embarked': 'S', 'Fare':14.45})\n",
    "data2 = data2.withColumn('FamilySize', data2['Parch'] + data2['SibSp']).\\\n",
    "            drop('Parch', 'SibSp')"
   ]
  },
  {
   "cell_type": "markdown",
   "id": "0ed598b1",
   "metadata": {},
   "source": [
    "#  Imputing Missing Age"
   ]
  },
  {
   "cell_type": "code",
   "execution_count": 41,
   "id": "39476bd5",
   "metadata": {},
   "outputs": [
    {
     "name": "stdout",
     "output_type": "stream",
     "text": [
      "+------+----------+------------------+\n",
      "| Title|count(Age)|          avg(Age)|\n",
      "+------+----------+------------------+\n",
      "|Master|        17| 7.406470588235294|\n",
      "|   Mrs|        63|38.904761904761905|\n",
      "|  Miss|        64|21.774843750000002|\n",
      "|    Mr|       188|32.340425531914896|\n",
      "+------+----------+------------------+\n",
      "\n"
     ]
    }
   ],
   "source": [
    "data2 = data2.withColumn('Title', regexp_extract(data2['Name'],\\\n",
    "                '([A-Za-z]+)\\.', 1))\n",
    "\n",
    "data2 = data2.withColumn('Title', mapping[data2['Title']])\n",
    "\n",
    "data2.groupBy('Title').agg(count('Age'), mean('Age')).sort('count(Age)').show()"
   ]
  },
  {
   "cell_type": "markdown",
   "id": "e9735c39",
   "metadata": {},
   "source": [
    "# Showing Top 6 Rows after Dropping 4 variables"
   ]
  },
  {
   "cell_type": "code",
   "execution_count": 42,
   "id": "9b77720b",
   "metadata": {},
   "outputs": [
    {
     "name": "stdout",
     "output_type": "stream",
     "text": [
      "+-----------+------+------+----+-------+--------+----------+\n",
      "|PassengerId|Pclass|   Sex| Age|   Fare|Embarked|FamilySize|\n",
      "+-----------+------+------+----+-------+--------+----------+\n",
      "|        892|     3|  male|34.5| 7.8292|       Q|         0|\n",
      "|        893|     3|female|47.0|    7.0|       S|         1|\n",
      "|        894|     2|  male|62.0| 9.6875|       Q|         0|\n",
      "|        895|     3|  male|27.0| 8.6625|       S|         0|\n",
      "|        896|     3|female|22.0|12.2875|       S|         2|\n",
      "|        897|     3|  male|14.0|  9.225|       S|         0|\n",
      "+-----------+------+------+----+-------+--------+----------+\n",
      "only showing top 6 rows\n",
      "\n"
     ]
    }
   ],
   "source": [
    "data2 = ageimpute(data2, 'Mr', 33.02)\n",
    "data2 = ageimpute(data2, 'Mrs', 35.98)\n",
    "data2 = ageimpute(data2, 'Miss', 21.86)\n",
    "data2 = ageimpute(data2, 'Master', 4.75)\n",
    "\n",
    "data2 = data2.drop('Ticket', 'Cabin', 'Title', 'Name')\n",
    "data2.show(6)"
   ]
  },
  {
   "cell_type": "markdown",
   "id": "e5574173",
   "metadata": {},
   "source": [
    "# Checking for Null Values"
   ]
  },
  {
   "cell_type": "code",
   "execution_count": 43,
   "id": "763e6dc2",
   "metadata": {},
   "outputs": [
    {
     "name": "stdout",
     "output_type": "stream",
     "text": [
      "PassengerId          0\n",
      "Pclass               0\n",
      "Sex                  0\n",
      "Age                  0\n",
      "Fare                 0\n",
      "Embarked             0\n",
      "FamilySize           0\n"
     ]
    }
   ],
   "source": [
    "for col in data2.columns:\n",
    "    print(col.ljust(20), data2.filter(data2[col].isNull()).count())"
   ]
  },
  {
   "cell_type": "markdown",
   "id": "06f61d64",
   "metadata": {},
   "source": [
    "# Grid-search and Cross-validation"
   ]
  },
  {
   "cell_type": "code",
   "execution_count": 44,
   "id": "1d7acf62",
   "metadata": {},
   "outputs": [
    {
     "data": {
      "text/plain": [
       "0.8484848484848485"
      ]
     },
     "execution_count": 44,
     "metadata": {},
     "output_type": "execute_result"
    }
   ],
   "source": [
    "pipeline_rf = Pipeline(stages=[stringIndex, vec_asmbl, rf])\n",
    "\n",
    "paramGrid = ParamGridBuilder().\\\n",
    "            addGrid(rf.maxDepth, [3, 4, 5]).\\\n",
    "            addGrid(rf.minInfoGain, [0., 0.01, 0.1]).\\\n",
    "            addGrid(rf.numTrees, [1000]).\\\n",
    "            build()\n",
    "\n",
    "selected_model = CrossValidator(estimator=pipeline_rf, \n",
    "                                estimatorParamMaps=paramGrid, \n",
    "                                evaluator=evaluator, \n",
    "                                numFolds=5)\n",
    "\n",
    "model_final = selected_model.fit(data1)\n",
    "pred_train = model_final.transform(data1)\n",
    "evaluator.evaluate(pred_train)"
   ]
  },
  {
   "cell_type": "markdown",
   "id": "8c736096",
   "metadata": {},
   "source": [
    "#  In-sample Accuracy"
   ]
  },
  {
   "cell_type": "code",
   "execution_count": 45,
   "id": "462ff9b2",
   "metadata": {},
   "outputs": [
    {
     "name": "stdout",
     "output_type": "stream",
     "text": [
      "+-----------+--------+\n",
      "|PassengerId|Survived|\n",
      "+-----------+--------+\n",
      "|        892|       0|\n",
      "|        893|       0|\n",
      "|        894|       0|\n",
      "|        895|       0|\n",
      "|        896|       1|\n",
      "|        897|       0|\n",
      "+-----------+--------+\n",
      "only showing top 6 rows\n",
      "\n"
     ]
    }
   ],
   "source": [
    "pred_test = model_final.transform(data2)\n",
    "\n",
    "predictions = pred_test.select('PassengerId', 'prediction')\n",
    "predictions = predictions.\\\n",
    "                withColumn('Survived', predictions['prediction'].\\\n",
    "                cast('integer')).drop('prediction')\n",
    "predictions.show(6)"
   ]
  },
  {
   "cell_type": "code",
   "execution_count": null,
   "id": "3858fa13",
   "metadata": {},
   "outputs": [],
   "source": []
  }
 ],
 "metadata": {
  "kernelspec": {
   "display_name": "Python 3 (ipykernel)",
   "language": "python",
   "name": "python3"
  },
  "language_info": {
   "codemirror_mode": {
    "name": "ipython",
    "version": 3
   },
   "file_extension": ".py",
   "mimetype": "text/x-python",
   "name": "python",
   "nbconvert_exporter": "python",
   "pygments_lexer": "ipython3",
   "version": "3.9.13"
  }
 },
 "nbformat": 4,
 "nbformat_minor": 5
}
